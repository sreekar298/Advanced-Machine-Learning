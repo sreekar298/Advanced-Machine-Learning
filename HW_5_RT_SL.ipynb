{
 "cells": [
  {
   "cell_type": "markdown",
   "metadata": {
    "id": "JKvSB2T_7DSd"
   },
   "source": [
    "<b> MIS 382N: ADVANCED MACHINE LEARNING<b>\n",
    "\n",
    "Assignment 5\n",
    "\n",
    "Total points: 55\n",
    "\n",
    "Due:  to be submitted via Canvas by 11:59 pm, Mon Nov 21st.\n",
    "\n",
    "Your homework should be written in a python notebook. If you prefer, you can work in groups of two. **Please note that only one student per team needs to submit the assignment on Canvas but make sure to include both students' names and UT EIDs.**\n",
    "\n",
    "For any question that requires a handwritten solution, you may upload scanned images of your solution in the notebook or attach them to the assignment . You may write your solution using markdown as well.\n",
    "\n",
    "Please make sure your code runs and the graphs and figures are displayed in your notebook before submitting. (%matplotlib inline)\n",
    "\n",
    "**Additionally, upload any images you plan to incorporate in your notebook as attachments so we can see them in case the uploaded images don't appear properly on our end.**"
   ]
  },
  {
   "cell_type": "markdown",
   "metadata": {
    "id": "c8BTU0m37IUE"
   },
   "source": [
    "**This can be an individual assignment or group of 2. If you choose to do it as a group, please specify who you are working with (name and EID), then only one student should submit the homework. Put your name and eid here.**\n",
    "\n",
    "Name:Sreekar Lanka\n",
    "\n",
    "EID:SL\n",
    "\n",
    "Name:Rishabh Tiwari\n",
    "\n",
    "EID:rt27739"
   ]
  },
  {
   "cell_type": "markdown",
   "metadata": {
    "id": "jGfL_nla7Owr"
   },
   "source": [
    "# Question 1: Ensemble Methods [10 pts]\n",
    "Read this [article](https://towardsdatascience.com/catboost-vs-light-gbm-vs-xgboost-5f93620723db) on different boosting methods. Briefly describe the main advantages and disadvantages of  CatBoost as compared to XGBoost."
   ]
  },
  {
   "cell_type": "markdown",
   "metadata": {},
   "source": [
    "Advantages of catboost over XG boost\n",
    "1)It focuses on optimizing decision trees for categorical variables, or variables whose different values may have no relation with each other (eg. apples and oranges) as it determines different categories automatically with no need for preprocessing\n",
    "2)It is faster in training the model and predicitng the outputs beacuse of its use of symmetric tress i.e the split is always made by retaining the same condition as previous. Hence it helps in avoiding overfitting \n",
    "\n",
    "Disdvantages:\n",
    "1) CatBoost’s internal identification of categorical data slows its training time a little \n",
    "2) Tuning of hyperparameters is complicated and might be tedious "
   ]
  },
  {
   "cell_type": "markdown",
   "metadata": {
    "id": "Q5pwQYRU7dz6"
   },
   "source": [
    "# Question 2 : Ensemble Methods for Classification [25 pts]\n",
    "\n",
    "We look at the following dataset [GiveMeSomeCredit](https://www.kaggle.com/c/GiveMeSomeCredit) for this question. The dataset is extremely large so for this question we only consider a subset of the data which has been provided along with the notebook for this assignment.\n",
    "The task is to predict the probability that someone will experience financial distress in the next two years. The dataset has already been split into train and test sets."
   ]
  },
  {
   "cell_type": "code",
   "execution_count": 2,
   "metadata": {
    "colab": {
     "base_uri": "https://localhost:8080/",
     "height": 288
    },
    "id": "-cvY2yHO8TcQ",
    "outputId": "2939ba7a-0f9b-4574-cb6c-3298b186df5d"
   },
   "outputs": [
    {
     "data": {
      "text/html": [
       "<div>\n",
       "<style scoped>\n",
       "    .dataframe tbody tr th:only-of-type {\n",
       "        vertical-align: middle;\n",
       "    }\n",
       "\n",
       "    .dataframe tbody tr th {\n",
       "        vertical-align: top;\n",
       "    }\n",
       "\n",
       "    .dataframe thead th {\n",
       "        text-align: right;\n",
       "    }\n",
       "</style>\n",
       "<table border=\"1\" class=\"dataframe\">\n",
       "  <thead>\n",
       "    <tr style=\"text-align: right;\">\n",
       "      <th></th>\n",
       "      <th>SeriousDlqin2yrs</th>\n",
       "      <th>RevolvingUtilizationOfUnsecuredLines</th>\n",
       "      <th>age</th>\n",
       "      <th>NumberOfTime30-59DaysPastDueNotWorse</th>\n",
       "      <th>DebtRatio</th>\n",
       "      <th>MonthlyIncome</th>\n",
       "      <th>NumberOfOpenCreditLinesAndLoans</th>\n",
       "      <th>NumberOfTimes90DaysLate</th>\n",
       "      <th>NumberRealEstateLoansOrLines</th>\n",
       "      <th>NumberOfTime60-89DaysPastDueNotWorse</th>\n",
       "      <th>NumberOfDependents</th>\n",
       "    </tr>\n",
       "  </thead>\n",
       "  <tbody>\n",
       "    <tr>\n",
       "      <th>0</th>\n",
       "      <td>0</td>\n",
       "      <td>0.571373</td>\n",
       "      <td>66</td>\n",
       "      <td>0</td>\n",
       "      <td>0.430620</td>\n",
       "      <td>9274.0</td>\n",
       "      <td>10</td>\n",
       "      <td>0</td>\n",
       "      <td>1</td>\n",
       "      <td>0</td>\n",
       "      <td>0.0</td>\n",
       "    </tr>\n",
       "    <tr>\n",
       "      <th>1</th>\n",
       "      <td>0</td>\n",
       "      <td>0.233999</td>\n",
       "      <td>56</td>\n",
       "      <td>0</td>\n",
       "      <td>0.257380</td>\n",
       "      <td>5656.0</td>\n",
       "      <td>12</td>\n",
       "      <td>0</td>\n",
       "      <td>0</td>\n",
       "      <td>0</td>\n",
       "      <td>0.0</td>\n",
       "    </tr>\n",
       "    <tr>\n",
       "      <th>2</th>\n",
       "      <td>0</td>\n",
       "      <td>0.299270</td>\n",
       "      <td>33</td>\n",
       "      <td>0</td>\n",
       "      <td>0.114575</td>\n",
       "      <td>4747.0</td>\n",
       "      <td>8</td>\n",
       "      <td>0</td>\n",
       "      <td>0</td>\n",
       "      <td>0</td>\n",
       "      <td>3.0</td>\n",
       "    </tr>\n",
       "    <tr>\n",
       "      <th>3</th>\n",
       "      <td>0</td>\n",
       "      <td>0.032165</td>\n",
       "      <td>41</td>\n",
       "      <td>0</td>\n",
       "      <td>0.308326</td>\n",
       "      <td>8490.0</td>\n",
       "      <td>8</td>\n",
       "      <td>0</td>\n",
       "      <td>1</td>\n",
       "      <td>0</td>\n",
       "      <td>0.0</td>\n",
       "    </tr>\n",
       "    <tr>\n",
       "      <th>4</th>\n",
       "      <td>0</td>\n",
       "      <td>0.050591</td>\n",
       "      <td>36</td>\n",
       "      <td>0</td>\n",
       "      <td>0.862627</td>\n",
       "      <td>3333.0</td>\n",
       "      <td>8</td>\n",
       "      <td>0</td>\n",
       "      <td>2</td>\n",
       "      <td>0</td>\n",
       "      <td>0.0</td>\n",
       "    </tr>\n",
       "  </tbody>\n",
       "</table>\n",
       "</div>"
      ],
      "text/plain": [
       "   SeriousDlqin2yrs  RevolvingUtilizationOfUnsecuredLines  age  \\\n",
       "0                 0                              0.571373   66   \n",
       "1                 0                              0.233999   56   \n",
       "2                 0                              0.299270   33   \n",
       "3                 0                              0.032165   41   \n",
       "4                 0                              0.050591   36   \n",
       "\n",
       "   NumberOfTime30-59DaysPastDueNotWorse  DebtRatio  MonthlyIncome  \\\n",
       "0                                     0   0.430620         9274.0   \n",
       "1                                     0   0.257380         5656.0   \n",
       "2                                     0   0.114575         4747.0   \n",
       "3                                     0   0.308326         8490.0   \n",
       "4                                     0   0.862627         3333.0   \n",
       "\n",
       "   NumberOfOpenCreditLinesAndLoans  NumberOfTimes90DaysLate  \\\n",
       "0                               10                        0   \n",
       "1                               12                        0   \n",
       "2                                8                        0   \n",
       "3                                8                        0   \n",
       "4                                8                        0   \n",
       "\n",
       "   NumberRealEstateLoansOrLines  NumberOfTime60-89DaysPastDueNotWorse  \\\n",
       "0                             1                                     0   \n",
       "1                             0                                     0   \n",
       "2                             0                                     0   \n",
       "3                             1                                     0   \n",
       "4                             2                                     0   \n",
       "\n",
       "   NumberOfDependents  \n",
       "0                 0.0  \n",
       "1                 0.0  \n",
       "2                 3.0  \n",
       "3                 0.0  \n",
       "4                 0.0  "
      ]
     },
     "execution_count": 2,
     "metadata": {},
     "output_type": "execute_result"
    }
   ],
   "source": [
    "import pandas as pd\n",
    "\n",
    "data = pd.read_csv('hw5_data.csv')\n",
    "data.drop(data.columns[data.columns.str.contains('unnamed',case = False)],axis = 1, inplace = True)\n",
    "data.head()"
   ]
  },
  {
   "cell_type": "code",
   "execution_count": 3,
   "metadata": {},
   "outputs": [
    {
     "data": {
      "text/plain": [
       "(5000, 11)"
      ]
     },
     "execution_count": 3,
     "metadata": {},
     "output_type": "execute_result"
    }
   ],
   "source": [
    "data.shape"
   ]
  },
  {
   "cell_type": "code",
   "execution_count": 4,
   "metadata": {
    "colab": {
     "base_uri": "https://localhost:8080/"
    },
    "id": "VCiWKO8k83pd",
    "outputId": "610cd46c-3556-47c0-e4a8-070c98225a8c"
   },
   "outputs": [
    {
     "name": "stdout",
     "output_type": "stream",
     "text": [
      "train (3750, 10) (3750,)\n",
      "test (1250, 10) (1250,)\n"
     ]
    }
   ],
   "source": [
    "from sklearn.model_selection import train_test_split\n",
    "y = data['SeriousDlqin2yrs']\n",
    "X = data.drop(['SeriousDlqin2yrs'],axis=1)\n",
    "X_train, X_test, y_train, y_test = train_test_split(X, y, test_size = 0.25, random_state = 7)\n",
    "\n",
    "print('train',X_train.shape,y_train.shape)\n",
    "print('test',X_test.shape,y_test.shape)"
   ]
  },
  {
   "cell_type": "code",
   "execution_count": 5,
   "metadata": {},
   "outputs": [
    {
     "data": {
      "text/html": [
       "<div>\n",
       "<style scoped>\n",
       "    .dataframe tbody tr th:only-of-type {\n",
       "        vertical-align: middle;\n",
       "    }\n",
       "\n",
       "    .dataframe tbody tr th {\n",
       "        vertical-align: top;\n",
       "    }\n",
       "\n",
       "    .dataframe thead th {\n",
       "        text-align: right;\n",
       "    }\n",
       "</style>\n",
       "<table border=\"1\" class=\"dataframe\">\n",
       "  <thead>\n",
       "    <tr style=\"text-align: right;\">\n",
       "      <th></th>\n",
       "      <th>RevolvingUtilizationOfUnsecuredLines</th>\n",
       "      <th>age</th>\n",
       "      <th>NumberOfTime30-59DaysPastDueNotWorse</th>\n",
       "      <th>DebtRatio</th>\n",
       "      <th>MonthlyIncome</th>\n",
       "      <th>NumberOfOpenCreditLinesAndLoans</th>\n",
       "      <th>NumberOfTimes90DaysLate</th>\n",
       "      <th>NumberRealEstateLoansOrLines</th>\n",
       "      <th>NumberOfTime60-89DaysPastDueNotWorse</th>\n",
       "      <th>NumberOfDependents</th>\n",
       "    </tr>\n",
       "  </thead>\n",
       "  <tbody>\n",
       "    <tr>\n",
       "      <th>0</th>\n",
       "      <td>0.571373</td>\n",
       "      <td>66</td>\n",
       "      <td>0</td>\n",
       "      <td>0.430620</td>\n",
       "      <td>9274.0</td>\n",
       "      <td>10</td>\n",
       "      <td>0</td>\n",
       "      <td>1</td>\n",
       "      <td>0</td>\n",
       "      <td>0.0</td>\n",
       "    </tr>\n",
       "    <tr>\n",
       "      <th>1</th>\n",
       "      <td>0.233999</td>\n",
       "      <td>56</td>\n",
       "      <td>0</td>\n",
       "      <td>0.257380</td>\n",
       "      <td>5656.0</td>\n",
       "      <td>12</td>\n",
       "      <td>0</td>\n",
       "      <td>0</td>\n",
       "      <td>0</td>\n",
       "      <td>0.0</td>\n",
       "    </tr>\n",
       "    <tr>\n",
       "      <th>2</th>\n",
       "      <td>0.299270</td>\n",
       "      <td>33</td>\n",
       "      <td>0</td>\n",
       "      <td>0.114575</td>\n",
       "      <td>4747.0</td>\n",
       "      <td>8</td>\n",
       "      <td>0</td>\n",
       "      <td>0</td>\n",
       "      <td>0</td>\n",
       "      <td>3.0</td>\n",
       "    </tr>\n",
       "    <tr>\n",
       "      <th>3</th>\n",
       "      <td>0.032165</td>\n",
       "      <td>41</td>\n",
       "      <td>0</td>\n",
       "      <td>0.308326</td>\n",
       "      <td>8490.0</td>\n",
       "      <td>8</td>\n",
       "      <td>0</td>\n",
       "      <td>1</td>\n",
       "      <td>0</td>\n",
       "      <td>0.0</td>\n",
       "    </tr>\n",
       "    <tr>\n",
       "      <th>4</th>\n",
       "      <td>0.050591</td>\n",
       "      <td>36</td>\n",
       "      <td>0</td>\n",
       "      <td>0.862627</td>\n",
       "      <td>3333.0</td>\n",
       "      <td>8</td>\n",
       "      <td>0</td>\n",
       "      <td>2</td>\n",
       "      <td>0</td>\n",
       "      <td>0.0</td>\n",
       "    </tr>\n",
       "    <tr>\n",
       "      <th>...</th>\n",
       "      <td>...</td>\n",
       "      <td>...</td>\n",
       "      <td>...</td>\n",
       "      <td>...</td>\n",
       "      <td>...</td>\n",
       "      <td>...</td>\n",
       "      <td>...</td>\n",
       "      <td>...</td>\n",
       "      <td>...</td>\n",
       "      <td>...</td>\n",
       "    </tr>\n",
       "    <tr>\n",
       "      <th>4995</th>\n",
       "      <td>0.050895</td>\n",
       "      <td>28</td>\n",
       "      <td>0</td>\n",
       "      <td>0.307791</td>\n",
       "      <td>6250.0</td>\n",
       "      <td>9</td>\n",
       "      <td>0</td>\n",
       "      <td>2</td>\n",
       "      <td>0</td>\n",
       "      <td>0.0</td>\n",
       "    </tr>\n",
       "    <tr>\n",
       "      <th>4996</th>\n",
       "      <td>0.049799</td>\n",
       "      <td>33</td>\n",
       "      <td>0</td>\n",
       "      <td>0.530426</td>\n",
       "      <td>15200.0</td>\n",
       "      <td>11</td>\n",
       "      <td>0</td>\n",
       "      <td>3</td>\n",
       "      <td>0</td>\n",
       "      <td>0.0</td>\n",
       "    </tr>\n",
       "    <tr>\n",
       "      <th>4997</th>\n",
       "      <td>0.423173</td>\n",
       "      <td>47</td>\n",
       "      <td>0</td>\n",
       "      <td>0.356478</td>\n",
       "      <td>5904.0</td>\n",
       "      <td>11</td>\n",
       "      <td>0</td>\n",
       "      <td>2</td>\n",
       "      <td>0</td>\n",
       "      <td>3.0</td>\n",
       "    </tr>\n",
       "    <tr>\n",
       "      <th>4998</th>\n",
       "      <td>1.000000</td>\n",
       "      <td>29</td>\n",
       "      <td>0</td>\n",
       "      <td>0.314842</td>\n",
       "      <td>2054.0</td>\n",
       "      <td>2</td>\n",
       "      <td>0</td>\n",
       "      <td>1</td>\n",
       "      <td>0</td>\n",
       "      <td>0.0</td>\n",
       "    </tr>\n",
       "    <tr>\n",
       "      <th>4999</th>\n",
       "      <td>0.020635</td>\n",
       "      <td>63</td>\n",
       "      <td>0</td>\n",
       "      <td>1147.000000</td>\n",
       "      <td>0.0</td>\n",
       "      <td>13</td>\n",
       "      <td>0</td>\n",
       "      <td>1</td>\n",
       "      <td>0</td>\n",
       "      <td>0.0</td>\n",
       "    </tr>\n",
       "  </tbody>\n",
       "</table>\n",
       "<p>5000 rows × 10 columns</p>\n",
       "</div>"
      ],
      "text/plain": [
       "      RevolvingUtilizationOfUnsecuredLines  age  \\\n",
       "0                                 0.571373   66   \n",
       "1                                 0.233999   56   \n",
       "2                                 0.299270   33   \n",
       "3                                 0.032165   41   \n",
       "4                                 0.050591   36   \n",
       "...                                    ...  ...   \n",
       "4995                              0.050895   28   \n",
       "4996                              0.049799   33   \n",
       "4997                              0.423173   47   \n",
       "4998                              1.000000   29   \n",
       "4999                              0.020635   63   \n",
       "\n",
       "      NumberOfTime30-59DaysPastDueNotWorse    DebtRatio  MonthlyIncome  \\\n",
       "0                                        0     0.430620         9274.0   \n",
       "1                                        0     0.257380         5656.0   \n",
       "2                                        0     0.114575         4747.0   \n",
       "3                                        0     0.308326         8490.0   \n",
       "4                                        0     0.862627         3333.0   \n",
       "...                                    ...          ...            ...   \n",
       "4995                                     0     0.307791         6250.0   \n",
       "4996                                     0     0.530426        15200.0   \n",
       "4997                                     0     0.356478         5904.0   \n",
       "4998                                     0     0.314842         2054.0   \n",
       "4999                                     0  1147.000000            0.0   \n",
       "\n",
       "      NumberOfOpenCreditLinesAndLoans  NumberOfTimes90DaysLate  \\\n",
       "0                                  10                        0   \n",
       "1                                  12                        0   \n",
       "2                                   8                        0   \n",
       "3                                   8                        0   \n",
       "4                                   8                        0   \n",
       "...                               ...                      ...   \n",
       "4995                                9                        0   \n",
       "4996                               11                        0   \n",
       "4997                               11                        0   \n",
       "4998                                2                        0   \n",
       "4999                               13                        0   \n",
       "\n",
       "      NumberRealEstateLoansOrLines  NumberOfTime60-89DaysPastDueNotWorse  \\\n",
       "0                                1                                     0   \n",
       "1                                0                                     0   \n",
       "2                                0                                     0   \n",
       "3                                1                                     0   \n",
       "4                                2                                     0   \n",
       "...                            ...                                   ...   \n",
       "4995                             2                                     0   \n",
       "4996                             3                                     0   \n",
       "4997                             2                                     0   \n",
       "4998                             1                                     0   \n",
       "4999                             1                                     0   \n",
       "\n",
       "      NumberOfDependents  \n",
       "0                    0.0  \n",
       "1                    0.0  \n",
       "2                    3.0  \n",
       "3                    0.0  \n",
       "4                    0.0  \n",
       "...                  ...  \n",
       "4995                 0.0  \n",
       "4996                 0.0  \n",
       "4997                 3.0  \n",
       "4998                 0.0  \n",
       "4999                 0.0  \n",
       "\n",
       "[5000 rows x 10 columns]"
      ]
     },
     "execution_count": 5,
     "metadata": {},
     "output_type": "execute_result"
    }
   ],
   "source": [
    "X"
   ]
  },
  {
   "cell_type": "markdown",
   "metadata": {
    "id": "1J4ptb5l9Bca"
   },
   "source": [
    "In this question, we will compare performance of different ensemble methods for classification problems: [Bagging](https://scikit-learn.org/stable/modules/generated/sklearn.ensemble.BaggingClassifier.html), [AdaBoost](https://scikit-learn.org/stable/modules/generated/sklearn.ensemble.AdaBoostClassifier.html), and [Random Forest](https://scikit-learn.org/stable/modules/generated/sklearn.ensemble.RandomForestClassifier.html) Classifiers.\n",
    "\n",
    "a) **[2.5 pts]** Use a Decision Tree Classifier with random_state = 14 for the classification problem. Report the accuracy_score and roc_auc_score on the test data for the classifier.\n",
    "\n",
    "b) **[2.5 pts]** Create an ensemble of 25 classifiers (i.e n_estimators = 25) with random_state = 14 for [bagging](https://scikit-learn.org/stable/modules/generated/sklearn.ensemble.BaggingClassifier.html) with base classifier as Decision Tree Classifier from part a). Report accuracy_score and roc_auc_score on the test data for the Bagging classifiers. \n",
    "\n",
    "c) **[5 pts]** Use the training data and build a [Random Forest](http://scikit-learn.org/stable/modules/generated/sklearn.ensemble.RandomForestClassifier.html) model for the classification problem. Find the best parameters (including *n_estimators*, *max_features* and *criterion*) using [GridSearchCV](http://scikit-learn.org/stable/modules/generated/sklearn.model_selection.GridSearchCV.html). Report the optimal parameters obtained by GridSearch. Report the confusion matrix  and [roc_auc_score](http://scikit-learn.org/stable/modules/generated/sklearn.metrics.roc_auc_score.html#sklearn.metrics.roc_auc_score) on test data using the model fit with best parameters.\n",
    "\n",
    "d) **[5 pts]** Use [AdaBoost](http://scikit-learn.org/stable/modules/generated/sklearn.ensemble.AdaBoostClassifier.html#sklearn.ensemble.AdaBoostClassifier) for this problem. Again, find the best parameters (including *n_estimators, learning_rate*), and report the confusion matrix and roc_auc_score on test data for the classifier fit with best parameters found using training data.\n",
    "\n",
    "e) **[5 pts]** Use [Gradient Boosting](https://scikit-learn.org/stable/modules/generated/sklearn.ensemble.GradientBoostingClassifier.html) for this problem. Again, find the best parameters (including *n_estimators, learning_rate*), and report the confusion matrix and roc_auc_score on test data for the classifier fit with best parameters found using training data.\n",
    "\n",
    "f) **[5 pts]** Compare the performance of decision tree from part a) with the ensemble methods, Briefly explain which of the three ensemble method performed better and why?"
   ]
  },
  {
   "cell_type": "code",
   "execution_count": 6,
   "metadata": {
    "id": "sbfLYzEESU29"
   },
   "outputs": [],
   "source": [
    "import matplotlib.pyplot as plt\n",
    "from sklearn.model_selection import (train_test_split,GridSearchCV)\n",
    "from sklearn.metrics import (accuracy_score,roc_auc_score)\n",
    "from sklearn.ensemble import (RandomForestClassifier,GradientBoostingClassifier,AdaBoostClassifier)\n",
    "from sklearn.ensemble import RandomForestClassifier, BaggingClassifier\n",
    "from sklearn.metrics import confusion_matrix\n",
    "from sklearn.tree import DecisionTreeClassifier\n",
    "from time import time\n",
    "%matplotlib inline"
   ]
  },
  {
   "cell_type": "code",
   "execution_count": 6,
   "metadata": {},
   "outputs": [],
   "source": [
    "from sklearn import tree\n",
    "import matplotlib.pyplot as plt"
   ]
  },
  {
   "cell_type": "code",
   "execution_count": 7,
   "metadata": {
    "id": "Db2-Md7SSkn1"
   },
   "outputs": [],
   "source": [
    "columns_list = list(X.columns)"
   ]
  },
  {
   "cell_type": "code",
   "execution_count": 7,
   "metadata": {
    "id": "X7p84Jd6Sr5c"
   },
   "outputs": [
    {
     "name": "stdout",
     "output_type": "stream",
     "text": [
      "Tree accuracy score: 0.888\n",
      "Decision Trees ROC score: 0.5854582176218127\n"
     ]
    }
   ],
   "source": [
    "# Part a)\n",
    "#defining the model\n",
    "clf = DecisionTreeClassifier(random_state = 14)\n",
    "#fitting the model\n",
    "clf.fit(X_train, y_train)\n",
    "test_pred_decision_tree = clf.predict(X_test)\n",
    "test_probs = clf.predict_proba(X_test)[:,1]\n",
    "#accuracy score of the model\n",
    "print(\"Tree accuracy score:\",accuracy_score(y_test, test_pred_decision_tree))\n",
    "# roc_auc_score of the model\n",
    "print(\"Decision Trees ROC score:\", roc_auc_score(y_test, test_probs))"
   ]
  },
  {
   "cell_type": "code",
   "execution_count": 8,
   "metadata": {},
   "outputs": [
    {
     "name": "stdout",
     "output_type": "stream",
     "text": [
      "|--- RevolvingUtilizationOfUnsecuredLines <= 0.75\n",
      "|   |--- NumberOfTimes90DaysLate <= 0.50\n",
      "|   |   |--- RevolvingUtilizationOfUnsecuredLines <= 0.40\n",
      "|   |   |   |--- NumberOfOpenCreditLinesAndLoans <= 42.00\n",
      "|   |   |   |   |--- NumberOfTime30-59DaysPastDueNotWorse <= 1.50\n",
      "|   |   |   |   |   |--- NumberOfTime60-89DaysPastDueNotWorse <= 0.50\n",
      "|   |   |   |   |   |   |--- RevolvingUtilizationOfUnsecuredLines <= 0.17\n",
      "|   |   |   |   |   |   |   |--- NumberRealEstateLoansOrLines <= 5.50\n",
      "|   |   |   |   |   |   |   |   |--- NumberOfDependents <= 2.50\n",
      "|   |   |   |   |   |   |   |   |   |--- age <= 29.50\n",
      "|   |   |   |   |   |   |   |   |   |   |--- NumberRealEstateLoansOrLines <= 1.50\n",
      "|   |   |   |   |   |   |   |   |   |   |   |--- truncated branch of depth 4\n",
      "|   |   |   |   |   |   |   |   |   |   |--- NumberRealEstateLoansOrLines >  1.50\n",
      "|   |   |   |   |   |   |   |   |   |   |   |--- truncated branch of depth 2\n",
      "|   |   |   |   |   |   |   |   |   |--- age >  29.50\n",
      "|   |   |   |   |   |   |   |   |   |   |--- RevolvingUtilizationOfUnsecuredLines <= 0.00\n",
      "|   |   |   |   |   |   |   |   |   |   |   |--- truncated branch of depth 9\n",
      "|   |   |   |   |   |   |   |   |   |   |--- RevolvingUtilizationOfUnsecuredLines >  0.00\n",
      "|   |   |   |   |   |   |   |   |   |   |   |--- truncated branch of depth 10\n",
      "|   |   |   |   |   |   |   |   |--- NumberOfDependents >  2.50\n",
      "|   |   |   |   |   |   |   |   |   |--- NumberOfOpenCreditLinesAndLoans <= 2.50\n",
      "|   |   |   |   |   |   |   |   |   |   |--- NumberRealEstateLoansOrLines <= 0.50\n",
      "|   |   |   |   |   |   |   |   |   |   |   |--- class: 0\n",
      "|   |   |   |   |   |   |   |   |   |   |--- NumberRealEstateLoansOrLines >  0.50\n",
      "|   |   |   |   |   |   |   |   |   |   |   |--- class: 1\n",
      "|   |   |   |   |   |   |   |   |   |--- NumberOfOpenCreditLinesAndLoans >  2.50\n",
      "|   |   |   |   |   |   |   |   |   |   |--- NumberRealEstateLoansOrLines <= 3.50\n",
      "|   |   |   |   |   |   |   |   |   |   |   |--- truncated branch of depth 5\n",
      "|   |   |   |   |   |   |   |   |   |   |--- NumberRealEstateLoansOrLines >  3.50\n",
      "|   |   |   |   |   |   |   |   |   |   |   |--- truncated branch of depth 2\n",
      "|   |   |   |   |   |   |   |--- NumberRealEstateLoansOrLines >  5.50\n",
      "|   |   |   |   |   |   |   |   |--- DebtRatio <= 0.97\n",
      "|   |   |   |   |   |   |   |   |   |--- class: 0\n",
      "|   |   |   |   |   |   |   |   |--- DebtRatio >  0.97\n",
      "|   |   |   |   |   |   |   |   |   |--- DebtRatio <= 1.19\n",
      "|   |   |   |   |   |   |   |   |   |   |--- class: 1\n",
      "|   |   |   |   |   |   |   |   |   |--- DebtRatio >  1.19\n",
      "|   |   |   |   |   |   |   |   |   |   |--- class: 0\n",
      "|   |   |   |   |   |   |--- RevolvingUtilizationOfUnsecuredLines >  0.17\n",
      "|   |   |   |   |   |   |   |--- RevolvingUtilizationOfUnsecuredLines <= 0.17\n",
      "|   |   |   |   |   |   |   |   |--- class: 1\n",
      "|   |   |   |   |   |   |   |--- RevolvingUtilizationOfUnsecuredLines >  0.17\n",
      "|   |   |   |   |   |   |   |   |--- NumberOfOpenCreditLinesAndLoans <= 7.50\n",
      "|   |   |   |   |   |   |   |   |   |--- DebtRatio <= 0.93\n",
      "|   |   |   |   |   |   |   |   |   |   |--- MonthlyIncome <= 8471.50\n",
      "|   |   |   |   |   |   |   |   |   |   |   |--- class: 0\n",
      "|   |   |   |   |   |   |   |   |   |   |--- MonthlyIncome >  8471.50\n",
      "|   |   |   |   |   |   |   |   |   |   |   |--- truncated branch of depth 2\n",
      "|   |   |   |   |   |   |   |   |   |--- DebtRatio >  0.93\n",
      "|   |   |   |   |   |   |   |   |   |   |--- RevolvingUtilizationOfUnsecuredLines <= 0.31\n",
      "|   |   |   |   |   |   |   |   |   |   |   |--- class: 0\n",
      "|   |   |   |   |   |   |   |   |   |   |--- RevolvingUtilizationOfUnsecuredLines >  0.31\n",
      "|   |   |   |   |   |   |   |   |   |   |   |--- class: 1\n",
      "|   |   |   |   |   |   |   |   |--- NumberOfOpenCreditLinesAndLoans >  7.50\n",
      "|   |   |   |   |   |   |   |   |   |--- MonthlyIncome <= 4039.00\n",
      "|   |   |   |   |   |   |   |   |   |   |--- DebtRatio <= 0.35\n",
      "|   |   |   |   |   |   |   |   |   |   |   |--- truncated branch of depth 6\n",
      "|   |   |   |   |   |   |   |   |   |   |--- DebtRatio >  0.35\n",
      "|   |   |   |   |   |   |   |   |   |   |   |--- truncated branch of depth 6\n",
      "|   |   |   |   |   |   |   |   |   |--- MonthlyIncome >  4039.00\n",
      "|   |   |   |   |   |   |   |   |   |   |--- MonthlyIncome <= 11060.50\n",
      "|   |   |   |   |   |   |   |   |   |   |   |--- truncated branch of depth 5\n",
      "|   |   |   |   |   |   |   |   |   |   |--- MonthlyIncome >  11060.50\n",
      "|   |   |   |   |   |   |   |   |   |   |   |--- truncated branch of depth 7\n",
      "|   |   |   |   |   |--- NumberOfTime60-89DaysPastDueNotWorse >  0.50\n",
      "|   |   |   |   |   |   |--- age <= 27.50\n",
      "|   |   |   |   |   |   |   |--- class: 1\n",
      "|   |   |   |   |   |   |--- age >  27.50\n",
      "|   |   |   |   |   |   |   |--- MonthlyIncome <= 1850.00\n",
      "|   |   |   |   |   |   |   |   |--- DebtRatio <= 0.84\n",
      "|   |   |   |   |   |   |   |   |   |--- class: 1\n",
      "|   |   |   |   |   |   |   |   |--- DebtRatio >  0.84\n",
      "|   |   |   |   |   |   |   |   |   |--- class: 0\n",
      "|   |   |   |   |   |   |   |--- MonthlyIncome >  1850.00\n",
      "|   |   |   |   |   |   |   |   |--- class: 0\n",
      "|   |   |   |   |--- NumberOfTime30-59DaysPastDueNotWorse >  1.50\n",
      "|   |   |   |   |   |--- DebtRatio <= 0.02\n",
      "|   |   |   |   |   |   |--- class: 1\n",
      "|   |   |   |   |   |--- DebtRatio >  0.02\n",
      "|   |   |   |   |   |   |--- NumberOfOpenCreditLinesAndLoans <= 23.00\n",
      "|   |   |   |   |   |   |   |--- NumberRealEstateLoansOrLines <= 2.50\n",
      "|   |   |   |   |   |   |   |   |--- DebtRatio <= 0.10\n",
      "|   |   |   |   |   |   |   |   |   |--- DebtRatio <= 0.08\n",
      "|   |   |   |   |   |   |   |   |   |   |--- class: 0\n",
      "|   |   |   |   |   |   |   |   |   |--- DebtRatio >  0.08\n",
      "|   |   |   |   |   |   |   |   |   |   |--- class: 1\n",
      "|   |   |   |   |   |   |   |   |--- DebtRatio >  0.10\n",
      "|   |   |   |   |   |   |   |   |   |--- NumberOfTime60-89DaysPastDueNotWorse <= 1.50\n",
      "|   |   |   |   |   |   |   |   |   |   |--- class: 0\n",
      "|   |   |   |   |   |   |   |   |   |--- NumberOfTime60-89DaysPastDueNotWorse >  1.50\n",
      "|   |   |   |   |   |   |   |   |   |   |--- MonthlyIncome <= 5444.50\n",
      "|   |   |   |   |   |   |   |   |   |   |   |--- class: 1\n",
      "|   |   |   |   |   |   |   |   |   |   |--- MonthlyIncome >  5444.50\n",
      "|   |   |   |   |   |   |   |   |   |   |   |--- class: 0\n",
      "|   |   |   |   |   |   |   |--- NumberRealEstateLoansOrLines >  2.50\n",
      "|   |   |   |   |   |   |   |   |--- DebtRatio <= 0.54\n",
      "|   |   |   |   |   |   |   |   |   |--- NumberOfTime30-59DaysPastDueNotWorse <= 3.00\n",
      "|   |   |   |   |   |   |   |   |   |   |--- class: 1\n",
      "|   |   |   |   |   |   |   |   |   |--- NumberOfTime30-59DaysPastDueNotWorse >  3.00\n",
      "|   |   |   |   |   |   |   |   |   |   |--- class: 0\n",
      "|   |   |   |   |   |   |   |   |--- DebtRatio >  0.54\n",
      "|   |   |   |   |   |   |   |   |   |--- class: 0\n",
      "|   |   |   |   |   |   |--- NumberOfOpenCreditLinesAndLoans >  23.00\n",
      "|   |   |   |   |   |   |   |--- class: 1\n",
      "|   |   |   |--- NumberOfOpenCreditLinesAndLoans >  42.00\n",
      "|   |   |   |   |--- class: 1\n",
      "|   |   |--- RevolvingUtilizationOfUnsecuredLines >  0.40\n",
      "|   |   |   |--- RevolvingUtilizationOfUnsecuredLines <= 0.40\n",
      "|   |   |   |   |--- age <= 56.50\n",
      "|   |   |   |   |   |--- class: 1\n",
      "|   |   |   |   |--- age >  56.50\n",
      "|   |   |   |   |   |--- class: 0\n",
      "|   |   |   |--- RevolvingUtilizationOfUnsecuredLines >  0.40\n",
      "|   |   |   |   |--- DebtRatio <= 0.00\n",
      "|   |   |   |   |   |--- class: 1\n",
      "|   |   |   |   |--- DebtRatio >  0.00\n",
      "|   |   |   |   |   |--- DebtRatio <= 4918.00\n",
      "|   |   |   |   |   |   |--- NumberOfTime60-89DaysPastDueNotWorse <= 0.50\n",
      "|   |   |   |   |   |   |   |--- NumberOfOpenCreditLinesAndLoans <= 14.50\n",
      "|   |   |   |   |   |   |   |   |--- NumberOfOpenCreditLinesAndLoans <= 2.50\n",
      "|   |   |   |   |   |   |   |   |   |--- DebtRatio <= 0.20\n",
      "|   |   |   |   |   |   |   |   |   |   |--- RevolvingUtilizationOfUnsecuredLines <= 0.45\n",
      "|   |   |   |   |   |   |   |   |   |   |   |--- truncated branch of depth 2\n",
      "|   |   |   |   |   |   |   |   |   |   |--- RevolvingUtilizationOfUnsecuredLines >  0.45\n",
      "|   |   |   |   |   |   |   |   |   |   |   |--- class: 0\n",
      "|   |   |   |   |   |   |   |   |   |--- DebtRatio >  0.20\n",
      "|   |   |   |   |   |   |   |   |   |   |--- MonthlyIncome <= 739.50\n",
      "|   |   |   |   |   |   |   |   |   |   |   |--- class: 0\n",
      "|   |   |   |   |   |   |   |   |   |   |--- MonthlyIncome >  739.50\n",
      "|   |   |   |   |   |   |   |   |   |   |   |--- class: 1\n",
      "|   |   |   |   |   |   |   |   |--- NumberOfOpenCreditLinesAndLoans >  2.50\n",
      "|   |   |   |   |   |   |   |   |   |--- age <= 51.50\n",
      "|   |   |   |   |   |   |   |   |   |   |--- RevolvingUtilizationOfUnsecuredLines <= 0.41\n",
      "|   |   |   |   |   |   |   |   |   |   |   |--- truncated branch of depth 2\n",
      "|   |   |   |   |   |   |   |   |   |   |--- RevolvingUtilizationOfUnsecuredLines >  0.41\n",
      "|   |   |   |   |   |   |   |   |   |   |   |--- truncated branch of depth 10\n",
      "|   |   |   |   |   |   |   |   |   |--- age >  51.50\n",
      "|   |   |   |   |   |   |   |   |   |   |--- NumberOfTime30-59DaysPastDueNotWorse <= 1.50\n",
      "|   |   |   |   |   |   |   |   |   |   |   |--- truncated branch of depth 5\n",
      "|   |   |   |   |   |   |   |   |   |   |--- NumberOfTime30-59DaysPastDueNotWorse >  1.50\n",
      "|   |   |   |   |   |   |   |   |   |   |   |--- truncated branch of depth 3\n",
      "|   |   |   |   |   |   |   |--- NumberOfOpenCreditLinesAndLoans >  14.50\n",
      "|   |   |   |   |   |   |   |   |--- MonthlyIncome <= 8028.00\n",
      "|   |   |   |   |   |   |   |   |   |--- RevolvingUtilizationOfUnsecuredLines <= 0.70\n",
      "|   |   |   |   |   |   |   |   |   |   |--- RevolvingUtilizationOfUnsecuredLines <= 0.48\n",
      "|   |   |   |   |   |   |   |   |   |   |   |--- truncated branch of depth 3\n",
      "|   |   |   |   |   |   |   |   |   |   |--- RevolvingUtilizationOfUnsecuredLines >  0.48\n",
      "|   |   |   |   |   |   |   |   |   |   |   |--- truncated branch of depth 4\n",
      "|   |   |   |   |   |   |   |   |   |--- RevolvingUtilizationOfUnsecuredLines >  0.70\n",
      "|   |   |   |   |   |   |   |   |   |   |--- class: 1\n",
      "|   |   |   |   |   |   |   |   |--- MonthlyIncome >  8028.00\n",
      "|   |   |   |   |   |   |   |   |   |--- age <= 67.00\n",
      "|   |   |   |   |   |   |   |   |   |   |--- class: 0\n",
      "|   |   |   |   |   |   |   |   |   |--- age >  67.00\n",
      "|   |   |   |   |   |   |   |   |   |   |--- DebtRatio <= 0.50\n",
      "|   |   |   |   |   |   |   |   |   |   |   |--- class: 1\n",
      "|   |   |   |   |   |   |   |   |   |   |--- DebtRatio >  0.50\n",
      "|   |   |   |   |   |   |   |   |   |   |   |--- class: 0\n",
      "|   |   |   |   |   |   |--- NumberOfTime60-89DaysPastDueNotWorse >  0.50\n",
      "|   |   |   |   |   |   |   |--- DebtRatio <= 0.24\n",
      "|   |   |   |   |   |   |   |   |--- RevolvingUtilizationOfUnsecuredLines <= 0.47\n",
      "|   |   |   |   |   |   |   |   |   |--- class: 0\n",
      "|   |   |   |   |   |   |   |   |--- RevolvingUtilizationOfUnsecuredLines >  0.47\n",
      "|   |   |   |   |   |   |   |   |   |--- NumberOfOpenCreditLinesAndLoans <= 7.00\n",
      "|   |   |   |   |   |   |   |   |   |   |--- class: 1\n",
      "|   |   |   |   |   |   |   |   |   |--- NumberOfOpenCreditLinesAndLoans >  7.00\n",
      "|   |   |   |   |   |   |   |   |   |   |--- NumberOfTime30-59DaysPastDueNotWorse <= 2.00\n",
      "|   |   |   |   |   |   |   |   |   |   |   |--- class: 0\n",
      "|   |   |   |   |   |   |   |   |   |   |--- NumberOfTime30-59DaysPastDueNotWorse >  2.00\n",
      "|   |   |   |   |   |   |   |   |   |   |   |--- class: 1\n",
      "|   |   |   |   |   |   |   |--- DebtRatio >  0.24\n",
      "|   |   |   |   |   |   |   |   |--- class: 0\n",
      "|   |   |   |   |   |--- DebtRatio >  4918.00\n",
      "|   |   |   |   |   |   |--- class: 1\n",
      "|   |--- NumberOfTimes90DaysLate >  0.50\n",
      "|   |   |--- NumberOfTime60-89DaysPastDueNotWorse <= 0.50\n",
      "|   |   |   |--- NumberOfTime30-59DaysPastDueNotWorse <= 1.50\n",
      "|   |   |   |   |--- RevolvingUtilizationOfUnsecuredLines <= 0.03\n",
      "|   |   |   |   |   |--- age <= 55.50\n",
      "|   |   |   |   |   |   |--- DebtRatio <= 0.55\n",
      "|   |   |   |   |   |   |   |--- class: 1\n",
      "|   |   |   |   |   |   |--- DebtRatio >  0.55\n",
      "|   |   |   |   |   |   |   |--- class: 0\n",
      "|   |   |   |   |   |--- age >  55.50\n",
      "|   |   |   |   |   |   |--- class: 0\n",
      "|   |   |   |   |--- RevolvingUtilizationOfUnsecuredLines >  0.03\n",
      "|   |   |   |   |   |--- MonthlyIncome <= 13977.50\n",
      "|   |   |   |   |   |   |--- NumberOfTimes90DaysLate <= 1.50\n",
      "|   |   |   |   |   |   |   |--- RevolvingUtilizationOfUnsecuredLines <= 0.61\n",
      "|   |   |   |   |   |   |   |   |--- NumberOfOpenCreditLinesAndLoans <= 5.50\n",
      "|   |   |   |   |   |   |   |   |   |--- age <= 54.00\n",
      "|   |   |   |   |   |   |   |   |   |   |--- class: 0\n",
      "|   |   |   |   |   |   |   |   |   |--- age >  54.00\n",
      "|   |   |   |   |   |   |   |   |   |   |--- class: 1\n",
      "|   |   |   |   |   |   |   |   |--- NumberOfOpenCreditLinesAndLoans >  5.50\n",
      "|   |   |   |   |   |   |   |   |   |--- class: 0\n",
      "|   |   |   |   |   |   |   |--- RevolvingUtilizationOfUnsecuredLines >  0.61\n",
      "|   |   |   |   |   |   |   |   |--- DebtRatio <= 0.49\n",
      "|   |   |   |   |   |   |   |   |   |--- class: 0\n",
      "|   |   |   |   |   |   |   |   |--- DebtRatio >  0.49\n",
      "|   |   |   |   |   |   |   |   |   |--- class: 1\n",
      "|   |   |   |   |   |   |--- NumberOfTimes90DaysLate >  1.50\n",
      "|   |   |   |   |   |   |   |--- RevolvingUtilizationOfUnsecuredLines <= 0.18\n",
      "|   |   |   |   |   |   |   |   |--- class: 1\n",
      "|   |   |   |   |   |   |   |--- RevolvingUtilizationOfUnsecuredLines >  0.18\n",
      "|   |   |   |   |   |   |   |   |--- class: 0\n",
      "|   |   |   |   |   |--- MonthlyIncome >  13977.50\n",
      "|   |   |   |   |   |   |--- class: 1\n",
      "|   |   |   |--- NumberOfTime30-59DaysPastDueNotWorse >  1.50\n",
      "|   |   |   |   |--- MonthlyIncome <= 5768.50\n",
      "|   |   |   |   |   |--- class: 1\n",
      "|   |   |   |   |--- MonthlyIncome >  5768.50\n",
      "|   |   |   |   |   |--- NumberOfTime30-59DaysPastDueNotWorse <= 3.50\n",
      "|   |   |   |   |   |   |--- NumberRealEstateLoansOrLines <= 0.50\n",
      "|   |   |   |   |   |   |   |--- class: 1\n",
      "|   |   |   |   |   |   |--- NumberRealEstateLoansOrLines >  0.50\n",
      "|   |   |   |   |   |   |   |--- class: 0\n",
      "|   |   |   |   |   |--- NumberOfTime30-59DaysPastDueNotWorse >  3.50\n",
      "|   |   |   |   |   |   |--- class: 1\n",
      "|   |   |--- NumberOfTime60-89DaysPastDueNotWorse >  0.50\n",
      "|   |   |   |--- MonthlyIncome <= 3112.00\n",
      "|   |   |   |   |--- class: 1\n",
      "|   |   |   |--- MonthlyIncome >  3112.00\n",
      "|   |   |   |   |--- MonthlyIncome <= 5863.00\n",
      "|   |   |   |   |   |--- NumberRealEstateLoansOrLines <= 2.50\n",
      "|   |   |   |   |   |   |--- class: 0\n",
      "|   |   |   |   |   |--- NumberRealEstateLoansOrLines >  2.50\n",
      "|   |   |   |   |   |   |--- class: 1\n",
      "|   |   |   |   |--- MonthlyIncome >  5863.00\n",
      "|   |   |   |   |   |--- DebtRatio <= 0.20\n",
      "|   |   |   |   |   |   |--- class: 0\n",
      "|   |   |   |   |   |--- DebtRatio >  0.20\n",
      "|   |   |   |   |   |   |--- class: 1\n",
      "|--- RevolvingUtilizationOfUnsecuredLines >  0.75\n",
      "|   |--- NumberOfTime30-59DaysPastDueNotWorse <= 1.50\n",
      "|   |   |--- NumberOfTimes90DaysLate <= 0.50\n",
      "|   |   |   |--- NumberRealEstateLoansOrLines <= 4.50\n",
      "|   |   |   |   |--- RevolvingUtilizationOfUnsecuredLines <= 1.00\n",
      "|   |   |   |   |   |--- DebtRatio <= 0.65\n",
      "|   |   |   |   |   |   |--- NumberOfTime60-89DaysPastDueNotWorse <= 1.50\n",
      "|   |   |   |   |   |   |   |--- RevolvingUtilizationOfUnsecuredLines <= 0.75\n",
      "|   |   |   |   |   |   |   |   |--- class: 1\n",
      "|   |   |   |   |   |   |   |--- RevolvingUtilizationOfUnsecuredLines >  0.75\n",
      "|   |   |   |   |   |   |   |   |--- NumberOfOpenCreditLinesAndLoans <= 7.50\n",
      "|   |   |   |   |   |   |   |   |   |--- NumberOfTime30-59DaysPastDueNotWorse <= 0.50\n",
      "|   |   |   |   |   |   |   |   |   |   |--- NumberOfTime60-89DaysPastDueNotWorse <= 0.50\n",
      "|   |   |   |   |   |   |   |   |   |   |   |--- truncated branch of depth 10\n",
      "|   |   |   |   |   |   |   |   |   |   |--- NumberOfTime60-89DaysPastDueNotWorse >  0.50\n",
      "|   |   |   |   |   |   |   |   |   |   |   |--- truncated branch of depth 2\n",
      "|   |   |   |   |   |   |   |   |   |--- NumberOfTime30-59DaysPastDueNotWorse >  0.50\n",
      "|   |   |   |   |   |   |   |   |   |   |--- MonthlyIncome <= 1383.50\n",
      "|   |   |   |   |   |   |   |   |   |   |   |--- class: 1\n",
      "|   |   |   |   |   |   |   |   |   |   |--- MonthlyIncome >  1383.50\n",
      "|   |   |   |   |   |   |   |   |   |   |   |--- truncated branch of depth 5\n",
      "|   |   |   |   |   |   |   |   |--- NumberOfOpenCreditLinesAndLoans >  7.50\n",
      "|   |   |   |   |   |   |   |   |   |--- age <= 40.50\n",
      "|   |   |   |   |   |   |   |   |   |   |--- MonthlyIncome <= 5148.50\n",
      "|   |   |   |   |   |   |   |   |   |   |   |--- truncated branch of depth 4\n",
      "|   |   |   |   |   |   |   |   |   |   |--- MonthlyIncome >  5148.50\n",
      "|   |   |   |   |   |   |   |   |   |   |   |--- truncated branch of depth 3\n",
      "|   |   |   |   |   |   |   |   |   |--- age >  40.50\n",
      "|   |   |   |   |   |   |   |   |   |   |--- NumberRealEstateLoansOrLines <= 2.50\n",
      "|   |   |   |   |   |   |   |   |   |   |   |--- truncated branch of depth 8\n",
      "|   |   |   |   |   |   |   |   |   |   |--- NumberRealEstateLoansOrLines >  2.50\n",
      "|   |   |   |   |   |   |   |   |   |   |   |--- truncated branch of depth 2\n",
      "|   |   |   |   |   |   |--- NumberOfTime60-89DaysPastDueNotWorse >  1.50\n",
      "|   |   |   |   |   |   |   |--- class: 1\n",
      "|   |   |   |   |   |--- DebtRatio >  0.65\n",
      "|   |   |   |   |   |   |--- NumberOfOpenCreditLinesAndLoans <= 11.50\n",
      "|   |   |   |   |   |   |   |--- NumberOfTime30-59DaysPastDueNotWorse <= 0.50\n",
      "|   |   |   |   |   |   |   |   |--- DebtRatio <= 0.98\n",
      "|   |   |   |   |   |   |   |   |   |--- age <= 54.00\n",
      "|   |   |   |   |   |   |   |   |   |   |--- MonthlyIncome <= 4601.50\n",
      "|   |   |   |   |   |   |   |   |   |   |   |--- truncated branch of depth 2\n",
      "|   |   |   |   |   |   |   |   |   |   |--- MonthlyIncome >  4601.50\n",
      "|   |   |   |   |   |   |   |   |   |   |   |--- class: 0\n",
      "|   |   |   |   |   |   |   |   |   |--- age >  54.00\n",
      "|   |   |   |   |   |   |   |   |   |   |--- class: 0\n",
      "|   |   |   |   |   |   |   |   |--- DebtRatio >  0.98\n",
      "|   |   |   |   |   |   |   |   |   |--- class: 0\n",
      "|   |   |   |   |   |   |   |--- NumberOfTime30-59DaysPastDueNotWorse >  0.50\n",
      "|   |   |   |   |   |   |   |   |--- NumberOfOpenCreditLinesAndLoans <= 4.50\n",
      "|   |   |   |   |   |   |   |   |   |--- class: 1\n",
      "|   |   |   |   |   |   |   |   |--- NumberOfOpenCreditLinesAndLoans >  4.50\n",
      "|   |   |   |   |   |   |   |   |   |--- NumberOfDependents <= 1.50\n",
      "|   |   |   |   |   |   |   |   |   |   |--- class: 0\n",
      "|   |   |   |   |   |   |   |   |   |--- NumberOfDependents >  1.50\n",
      "|   |   |   |   |   |   |   |   |   |   |--- age <= 48.00\n",
      "|   |   |   |   |   |   |   |   |   |   |   |--- class: 1\n",
      "|   |   |   |   |   |   |   |   |   |   |--- age >  48.00\n",
      "|   |   |   |   |   |   |   |   |   |   |   |--- class: 0\n",
      "|   |   |   |   |   |   |--- NumberOfOpenCreditLinesAndLoans >  11.50\n",
      "|   |   |   |   |   |   |   |--- RevolvingUtilizationOfUnsecuredLines <= 0.95\n",
      "|   |   |   |   |   |   |   |   |--- NumberOfOpenCreditLinesAndLoans <= 14.50\n",
      "|   |   |   |   |   |   |   |   |   |--- DebtRatio <= 0.95\n",
      "|   |   |   |   |   |   |   |   |   |   |--- MonthlyIncome <= 8128.00\n",
      "|   |   |   |   |   |   |   |   |   |   |   |--- truncated branch of depth 3\n",
      "|   |   |   |   |   |   |   |   |   |   |--- MonthlyIncome >  8128.00\n",
      "|   |   |   |   |   |   |   |   |   |   |   |--- class: 1\n",
      "|   |   |   |   |   |   |   |   |   |--- DebtRatio >  0.95\n",
      "|   |   |   |   |   |   |   |   |   |   |--- class: 1\n",
      "|   |   |   |   |   |   |   |   |--- NumberOfOpenCreditLinesAndLoans >  14.50\n",
      "|   |   |   |   |   |   |   |   |   |--- NumberOfDependents <= 0.50\n",
      "|   |   |   |   |   |   |   |   |   |   |--- class: 1\n",
      "|   |   |   |   |   |   |   |   |   |--- NumberOfDependents >  0.50\n",
      "|   |   |   |   |   |   |   |   |   |   |--- class: 0\n",
      "|   |   |   |   |   |   |   |--- RevolvingUtilizationOfUnsecuredLines >  0.95\n",
      "|   |   |   |   |   |   |   |   |--- class: 0\n",
      "|   |   |   |   |--- RevolvingUtilizationOfUnsecuredLines >  1.00\n",
      "|   |   |   |   |   |--- RevolvingUtilizationOfUnsecuredLines <= 1.01\n",
      "|   |   |   |   |   |   |--- class: 1\n",
      "|   |   |   |   |   |--- RevolvingUtilizationOfUnsecuredLines >  1.01\n",
      "|   |   |   |   |   |   |--- NumberOfOpenCreditLinesAndLoans <= 2.50\n",
      "|   |   |   |   |   |   |   |--- RevolvingUtilizationOfUnsecuredLines <= 1.10\n",
      "|   |   |   |   |   |   |   |   |--- class: 0\n",
      "|   |   |   |   |   |   |   |--- RevolvingUtilizationOfUnsecuredLines >  1.10\n",
      "|   |   |   |   |   |   |   |   |--- class: 1\n",
      "|   |   |   |   |   |   |--- NumberOfOpenCreditLinesAndLoans >  2.50\n",
      "|   |   |   |   |   |   |   |--- DebtRatio <= 1.36\n",
      "|   |   |   |   |   |   |   |   |--- age <= 27.00\n",
      "|   |   |   |   |   |   |   |   |   |--- class: 1\n",
      "|   |   |   |   |   |   |   |   |--- age >  27.00\n",
      "|   |   |   |   |   |   |   |   |   |--- NumberOfTime60-89DaysPastDueNotWorse <= 2.50\n",
      "|   |   |   |   |   |   |   |   |   |   |--- RevolvingUtilizationOfUnsecuredLines <= 1.49\n",
      "|   |   |   |   |   |   |   |   |   |   |   |--- truncated branch of depth 7\n",
      "|   |   |   |   |   |   |   |   |   |   |--- RevolvingUtilizationOfUnsecuredLines >  1.49\n",
      "|   |   |   |   |   |   |   |   |   |   |   |--- class: 0\n",
      "|   |   |   |   |   |   |   |   |   |--- NumberOfTime60-89DaysPastDueNotWorse >  2.50\n",
      "|   |   |   |   |   |   |   |   |   |   |--- class: 1\n",
      "|   |   |   |   |   |   |   |--- DebtRatio >  1.36\n",
      "|   |   |   |   |   |   |   |   |--- class: 1\n",
      "|   |   |   |--- NumberRealEstateLoansOrLines >  4.50\n",
      "|   |   |   |   |--- NumberRealEstateLoansOrLines <= 9.50\n",
      "|   |   |   |   |   |--- class: 1\n",
      "|   |   |   |   |--- NumberRealEstateLoansOrLines >  9.50\n",
      "|   |   |   |   |   |--- class: 0\n",
      "|   |   |--- NumberOfTimes90DaysLate >  0.50\n",
      "|   |   |   |--- age <= 38.50\n",
      "|   |   |   |   |--- MonthlyIncome <= 2551.50\n",
      "|   |   |   |   |   |--- DebtRatio <= 0.21\n",
      "|   |   |   |   |   |   |--- MonthlyIncome <= 2250.00\n",
      "|   |   |   |   |   |   |   |--- DebtRatio <= 0.01\n",
      "|   |   |   |   |   |   |   |   |--- class: 0\n",
      "|   |   |   |   |   |   |   |--- DebtRatio >  0.01\n",
      "|   |   |   |   |   |   |   |   |--- NumberOfTime60-89DaysPastDueNotWorse <= 1.00\n",
      "|   |   |   |   |   |   |   |   |   |--- class: 1\n",
      "|   |   |   |   |   |   |   |   |--- NumberOfTime60-89DaysPastDueNotWorse >  1.00\n",
      "|   |   |   |   |   |   |   |   |   |--- class: 0\n",
      "|   |   |   |   |   |   |--- MonthlyIncome >  2250.00\n",
      "|   |   |   |   |   |   |   |--- class: 0\n",
      "|   |   |   |   |   |--- DebtRatio >  0.21\n",
      "|   |   |   |   |   |   |--- class: 0\n",
      "|   |   |   |   |--- MonthlyIncome >  2551.50\n",
      "|   |   |   |   |   |--- MonthlyIncome <= 4408.00\n",
      "|   |   |   |   |   |   |--- NumberOfTime60-89DaysPastDueNotWorse <= 0.50\n",
      "|   |   |   |   |   |   |   |--- RevolvingUtilizationOfUnsecuredLines <= 0.98\n",
      "|   |   |   |   |   |   |   |   |--- class: 0\n",
      "|   |   |   |   |   |   |   |--- RevolvingUtilizationOfUnsecuredLines >  0.98\n",
      "|   |   |   |   |   |   |   |   |--- MonthlyIncome <= 2856.00\n",
      "|   |   |   |   |   |   |   |   |   |--- class: 0\n",
      "|   |   |   |   |   |   |   |   |--- MonthlyIncome >  2856.00\n",
      "|   |   |   |   |   |   |   |   |   |--- NumberOfTime30-59DaysPastDueNotWorse <= 0.50\n",
      "|   |   |   |   |   |   |   |   |   |   |--- class: 1\n",
      "|   |   |   |   |   |   |   |   |   |--- NumberOfTime30-59DaysPastDueNotWorse >  0.50\n",
      "|   |   |   |   |   |   |   |   |   |   |--- NumberOfTimes90DaysLate <= 1.50\n",
      "|   |   |   |   |   |   |   |   |   |   |   |--- class: 0\n",
      "|   |   |   |   |   |   |   |   |   |   |--- NumberOfTimes90DaysLate >  1.50\n",
      "|   |   |   |   |   |   |   |   |   |   |   |--- class: 1\n",
      "|   |   |   |   |   |   |--- NumberOfTime60-89DaysPastDueNotWorse >  0.50\n",
      "|   |   |   |   |   |   |   |--- class: 1\n",
      "|   |   |   |   |   |--- MonthlyIncome >  4408.00\n",
      "|   |   |   |   |   |   |--- DebtRatio <= 0.02\n",
      "|   |   |   |   |   |   |   |--- class: 1\n",
      "|   |   |   |   |   |   |--- DebtRatio >  0.02\n",
      "|   |   |   |   |   |   |   |--- class: 0\n",
      "|   |   |   |--- age >  38.50\n",
      "|   |   |   |   |--- NumberOfOpenCreditLinesAndLoans <= 3.50\n",
      "|   |   |   |   |   |--- MonthlyIncome <= 6741.50\n",
      "|   |   |   |   |   |   |--- class: 0\n",
      "|   |   |   |   |   |--- MonthlyIncome >  6741.50\n",
      "|   |   |   |   |   |   |--- MonthlyIncome <= 9374.00\n",
      "|   |   |   |   |   |   |   |--- NumberOfDependents <= 1.50\n",
      "|   |   |   |   |   |   |   |   |--- class: 1\n",
      "|   |   |   |   |   |   |   |--- NumberOfDependents >  1.50\n",
      "|   |   |   |   |   |   |   |   |--- class: 0\n",
      "|   |   |   |   |   |   |--- MonthlyIncome >  9374.00\n",
      "|   |   |   |   |   |   |   |--- class: 0\n",
      "|   |   |   |   |--- NumberOfOpenCreditLinesAndLoans >  3.50\n",
      "|   |   |   |   |   |--- MonthlyIncome <= 2241.50\n",
      "|   |   |   |   |   |   |--- class: 1\n",
      "|   |   |   |   |   |--- MonthlyIncome >  2241.50\n",
      "|   |   |   |   |   |   |--- DebtRatio <= 0.25\n",
      "|   |   |   |   |   |   |   |--- DebtRatio <= 0.14\n",
      "|   |   |   |   |   |   |   |   |--- DebtRatio <= 0.04\n",
      "|   |   |   |   |   |   |   |   |   |--- class: 1\n",
      "|   |   |   |   |   |   |   |   |--- DebtRatio >  0.04\n",
      "|   |   |   |   |   |   |   |   |   |--- class: 0\n",
      "|   |   |   |   |   |   |   |--- DebtRatio >  0.14\n",
      "|   |   |   |   |   |   |   |   |--- class: 1\n",
      "|   |   |   |   |   |   |--- DebtRatio >  0.25\n",
      "|   |   |   |   |   |   |   |--- RevolvingUtilizationOfUnsecuredLines <= 0.77\n",
      "|   |   |   |   |   |   |   |   |--- class: 1\n",
      "|   |   |   |   |   |   |   |--- RevolvingUtilizationOfUnsecuredLines >  0.77\n",
      "|   |   |   |   |   |   |   |   |--- age <= 55.00\n",
      "|   |   |   |   |   |   |   |   |   |--- class: 0\n",
      "|   |   |   |   |   |   |   |   |--- age >  55.00\n",
      "|   |   |   |   |   |   |   |   |   |--- MonthlyIncome <= 5900.00\n",
      "|   |   |   |   |   |   |   |   |   |   |--- class: 0\n",
      "|   |   |   |   |   |   |   |   |   |--- MonthlyIncome >  5900.00\n",
      "|   |   |   |   |   |   |   |   |   |   |--- class: 1\n",
      "|   |--- NumberOfTime30-59DaysPastDueNotWorse >  1.50\n",
      "|   |   |--- DebtRatio <= 0.58\n",
      "|   |   |   |--- NumberOfOpenCreditLinesAndLoans <= 1.00\n",
      "|   |   |   |   |--- class: 1\n",
      "|   |   |   |--- NumberOfOpenCreditLinesAndLoans >  1.00\n",
      "|   |   |   |   |--- NumberOfOpenCreditLinesAndLoans <= 2.50\n",
      "|   |   |   |   |   |--- class: 0\n",
      "|   |   |   |   |--- NumberOfOpenCreditLinesAndLoans >  2.50\n",
      "|   |   |   |   |   |--- NumberOfOpenCreditLinesAndLoans <= 4.50\n",
      "|   |   |   |   |   |   |--- NumberOfDependents <= 2.50\n",
      "|   |   |   |   |   |   |   |--- DebtRatio <= 0.51\n",
      "|   |   |   |   |   |   |   |   |--- class: 1\n",
      "|   |   |   |   |   |   |   |--- DebtRatio >  0.51\n",
      "|   |   |   |   |   |   |   |   |--- class: 0\n",
      "|   |   |   |   |   |   |--- NumberOfDependents >  2.50\n",
      "|   |   |   |   |   |   |   |--- class: 0\n",
      "|   |   |   |   |   |--- NumberOfOpenCreditLinesAndLoans >  4.50\n",
      "|   |   |   |   |   |   |--- NumberOfOpenCreditLinesAndLoans <= 15.50\n",
      "|   |   |   |   |   |   |   |--- RevolvingUtilizationOfUnsecuredLines <= 0.85\n",
      "|   |   |   |   |   |   |   |   |--- RevolvingUtilizationOfUnsecuredLines <= 0.77\n",
      "|   |   |   |   |   |   |   |   |   |--- class: 0\n",
      "|   |   |   |   |   |   |   |   |--- RevolvingUtilizationOfUnsecuredLines >  0.77\n",
      "|   |   |   |   |   |   |   |   |   |--- MonthlyIncome <= 11750.00\n",
      "|   |   |   |   |   |   |   |   |   |   |--- NumberOfTimes90DaysLate <= 0.50\n",
      "|   |   |   |   |   |   |   |   |   |   |   |--- class: 1\n",
      "|   |   |   |   |   |   |   |   |   |   |--- NumberOfTimes90DaysLate >  0.50\n",
      "|   |   |   |   |   |   |   |   |   |   |   |--- truncated branch of depth 2\n",
      "|   |   |   |   |   |   |   |   |   |--- MonthlyIncome >  11750.00\n",
      "|   |   |   |   |   |   |   |   |   |   |--- class: 0\n",
      "|   |   |   |   |   |   |   |--- RevolvingUtilizationOfUnsecuredLines >  0.85\n",
      "|   |   |   |   |   |   |   |   |--- RevolvingUtilizationOfUnsecuredLines <= 0.98\n",
      "|   |   |   |   |   |   |   |   |   |--- RevolvingUtilizationOfUnsecuredLines <= 0.87\n",
      "|   |   |   |   |   |   |   |   |   |   |--- RevolvingUtilizationOfUnsecuredLines <= 0.87\n",
      "|   |   |   |   |   |   |   |   |   |   |   |--- class: 0\n",
      "|   |   |   |   |   |   |   |   |   |   |--- RevolvingUtilizationOfUnsecuredLines >  0.87\n",
      "|   |   |   |   |   |   |   |   |   |   |   |--- class: 1\n",
      "|   |   |   |   |   |   |   |   |   |--- RevolvingUtilizationOfUnsecuredLines >  0.87\n",
      "|   |   |   |   |   |   |   |   |   |   |--- class: 0\n",
      "|   |   |   |   |   |   |   |   |--- RevolvingUtilizationOfUnsecuredLines >  0.98\n",
      "|   |   |   |   |   |   |   |   |   |--- NumberOfDependents <= 2.50\n",
      "|   |   |   |   |   |   |   |   |   |   |--- RevolvingUtilizationOfUnsecuredLines <= 1.00\n",
      "|   |   |   |   |   |   |   |   |   |   |   |--- class: 1\n",
      "|   |   |   |   |   |   |   |   |   |   |--- RevolvingUtilizationOfUnsecuredLines >  1.00\n",
      "|   |   |   |   |   |   |   |   |   |   |   |--- truncated branch of depth 5\n",
      "|   |   |   |   |   |   |   |   |   |--- NumberOfDependents >  2.50\n",
      "|   |   |   |   |   |   |   |   |   |   |--- class: 1\n",
      "|   |   |   |   |   |   |--- NumberOfOpenCreditLinesAndLoans >  15.50\n",
      "|   |   |   |   |   |   |   |--- age <= 62.00\n",
      "|   |   |   |   |   |   |   |   |--- class: 1\n",
      "|   |   |   |   |   |   |   |--- age >  62.00\n",
      "|   |   |   |   |   |   |   |   |--- class: 0\n",
      "|   |   |--- DebtRatio >  0.58\n",
      "|   |   |   |--- DebtRatio <= 1.43\n",
      "|   |   |   |   |--- NumberOfDependents <= 2.50\n",
      "|   |   |   |   |   |--- NumberOfTime30-59DaysPastDueNotWorse <= 2.50\n",
      "|   |   |   |   |   |   |--- MonthlyIncome <= 3583.00\n",
      "|   |   |   |   |   |   |   |--- class: 0\n",
      "|   |   |   |   |   |   |--- MonthlyIncome >  3583.00\n",
      "|   |   |   |   |   |   |   |--- DebtRatio <= 0.66\n",
      "|   |   |   |   |   |   |   |   |--- NumberRealEstateLoansOrLines <= 1.50\n",
      "|   |   |   |   |   |   |   |   |   |--- class: 1\n",
      "|   |   |   |   |   |   |   |   |--- NumberRealEstateLoansOrLines >  1.50\n",
      "|   |   |   |   |   |   |   |   |   |--- class: 0\n",
      "|   |   |   |   |   |   |   |--- DebtRatio >  0.66\n",
      "|   |   |   |   |   |   |   |   |--- class: 1\n",
      "|   |   |   |   |   |--- NumberOfTime30-59DaysPastDueNotWorse >  2.50\n",
      "|   |   |   |   |   |   |--- class: 1\n",
      "|   |   |   |   |--- NumberOfDependents >  2.50\n",
      "|   |   |   |   |   |--- RevolvingUtilizationOfUnsecuredLines <= 0.98\n",
      "|   |   |   |   |   |   |--- class: 0\n",
      "|   |   |   |   |   |--- RevolvingUtilizationOfUnsecuredLines >  0.98\n",
      "|   |   |   |   |   |   |--- class: 1\n",
      "|   |   |   |--- DebtRatio >  1.43\n",
      "|   |   |   |   |--- class: 0\n",
      "\n"
     ]
    }
   ],
   "source": [
    "#import relevant functions\n",
    "from sklearn.tree import export_text\n",
    "#export the decision rules\n",
    "tree_rules = export_text(clf,\n",
    "                        feature_names = list(X))\n",
    "#print the result\n",
    "print(tree_rules)"
   ]
  },
  {
   "cell_type": "code",
   "execution_count": 10,
   "metadata": {
    "id": "eu7882XwSubQ"
   },
   "outputs": [
    {
     "name": "stdout",
     "output_type": "stream",
     "text": [
      "Bagging Decision Trees accuracy score: 0.932\n",
      "Bagging Decision Trees ROC score: 0.5\n"
     ]
    }
   ],
   "source": [
    "# Part b)\n",
    "from sklearn.svm import SVC\n",
    "clf_bagging = BaggingClassifier(base_estimator=clf, n_estimators = 25,random_state = 14)\n",
    "clf_bagging.fit(X_train, y_train)\n",
    "test_pred_bagging = clf_bagging.predict(X_test)\n",
    "y_probs_bagging = clf_bagging.predict_proba(X_test)[:,1]\n",
    "\n",
    "#accuracy score of the model\n",
    "print(\"Bagging Decision Trees accuracy score:\", accuracy_score(y_test, test_pred_bagging))\n",
    "#roc_auc_score of the model\n",
    "print(\"Bagging Decision Trees ROC score:\",roc_auc_score(y_test,y_probs_bagging))\n"
   ]
  },
  {
   "cell_type": "code",
   "execution_count": 47,
   "metadata": {
    "id": "1PEjQ1fJSxAB"
   },
   "outputs": [],
   "source": [
    "# Part c)\n",
    "clf = RandomForestClassifier()\n",
    "\n",
    "param_grid = {\"n_estimators\": [1, 10, 50, 100],\n",
    "              \"max_features\": [1, 5, 10, \"auto\"],\n",
    "              \"criterion\": ['gini','entropy'],\n",
    "              \"random_state\": [17]}\n",
    "\n",
    "# Grid search\n",
    "grid_rf = GridSearchCV(clf,param_grid)\n",
    "fitted_rf= grid_rf.fit(X_train, y_train)\n",
    "\n",
    "# print(clf_rf.best_params_)\n",
    "# print(clf_rf.best_score_)\n",
    "\n",
    "\n"
   ]
  },
  {
   "cell_type": "code",
   "execution_count": 48,
   "metadata": {},
   "outputs": [
    {
     "data": {
      "text/plain": [
       "{'criterion': 'entropy',\n",
       " 'max_features': 1,\n",
       " 'n_estimators': 100,\n",
       " 'random_state': 17}"
      ]
     },
     "execution_count": 48,
     "metadata": {},
     "output_type": "execute_result"
    }
   ],
   "source": [
    "fitted_rf.best_params_"
   ]
  },
  {
   "cell_type": "code",
   "execution_count": 52,
   "metadata": {},
   "outputs": [
    {
     "name": "stdout",
     "output_type": "stream",
     "text": [
      "[[1162    3]\n",
      " [  82    3]]\n",
      "Random Forest ROC score: 0.8375612219136582\n",
      "Random Forest Accuracy score 0.932\n"
     ]
    }
   ],
   "source": [
    "#confusion matrix \n",
    "\n",
    "y_pred_rf = fitted_rf.predict(X_test)\n",
    "y_probs_rf = fitted_rf.predict_proba(X_test)[:,1]\n",
    "\n",
    "cm_rf = confusion_matrix(y_test,y_pred_rf)\n",
    "print(cm_rf)\n",
    "#ROC score\n",
    "print(\"Random Forest ROC score:\",roc_auc_score(y_test,y_probs_rf))\n",
    "# Accuracy\n",
    "print(\"Random Forest Accuracy score\",accuracy_score(y_test,y_pred_rf))\n",
    "\n",
    "\n"
   ]
  },
  {
   "cell_type": "code",
   "execution_count": null,
   "metadata": {},
   "outputs": [],
   "source": []
  },
  {
   "cell_type": "code",
   "execution_count": 57,
   "metadata": {
    "id": "X7cPUJcDwIIe"
   },
   "outputs": [
    {
     "name": "stdout",
     "output_type": "stream",
     "text": [
      "Best Params are: {'learning_rate': 0.1, 'n_estimators': 100, 'random_state': 17}\n"
     ]
    }
   ],
   "source": [
    "# Part d)\n",
    "\n",
    "clf = AdaBoostClassifier()\n",
    "\n",
    "param_grid = {\"n_estimators\": [10, 100],\n",
    "          \"learning_rate\": [0.01, 0.1, 0.5],\n",
    "          \"random_state\": [17]\n",
    "          }\n",
    "\n",
    "\n",
    "# Grid search\n",
    "clf_adaboost = GridSearchCV(clf,param_grid)\n",
    "clf_adb = clf_adaboost.fit(X_train,y_train)\n",
    "\n",
    "print(\"Best Params are:\", clf_adb.best_params_)\n",
    "\n"
   ]
  },
  {
   "cell_type": "code",
   "execution_count": 64,
   "metadata": {},
   "outputs": [
    {
     "name": "stdout",
     "output_type": "stream",
     "text": [
      "confusion matrix for adaboost: [[1153   12]\n",
      " [  72   13]]\n",
      "ROC AUC score for adaboost: 0.8390254986114618\n",
      "accuracy score for adaboost: 0.9328\n"
     ]
    }
   ],
   "source": [
    "#Predicting adaboost on test data\n",
    "y_pred_adaboost = clf_adb.best_estimator_.predict(X_test)\n",
    "y_probs_adaboost = clf_adb.predict_proba(X_test)[:,1]\n",
    "\n",
    "#confusion matrix \n",
    "print(\"confusion matrix for adaboost:\", confusion_matrix(y_test,y_pred_adaboost))\n",
    "print(\"ROC AUC score for adaboost:\", roc_auc_score(y_test,y_probs_adaboost))\n",
    "print(\"accuracy score for adaboost:\", accuracy_score(y_test,y_pred_adaboost))\n"
   ]
  },
  {
   "cell_type": "code",
   "execution_count": 68,
   "metadata": {
    "id": "9TsB5OT7_FPW"
   },
   "outputs": [
    {
     "data": {
      "text/plain": [
       "{'learning_rate': 0.1, 'n_estimators': 10, 'random_state': 17}"
      ]
     },
     "execution_count": 68,
     "metadata": {},
     "output_type": "execute_result"
    }
   ],
   "source": [
    "# Part e)\n",
    "\n",
    "clf = GradientBoostingClassifier()\n",
    "\n",
    "param_grid = {\"n_estimators\": [10, 100],\n",
    "          \"learning_rate\": [0.01, 0.1, 0.5],\n",
    "          \"random_state\": [17]\n",
    "          }\n",
    "# Grid search\n",
    "clf_gradientboosting = GridSearchCV(clf,param_grid)\n",
    "clf_grad = clf_gradientboosting.fit(X_train,y_train)\n",
    "\n",
    "clf_grad.best_params_\n",
    "\n"
   ]
  },
  {
   "cell_type": "code",
   "execution_count": 72,
   "metadata": {},
   "outputs": [
    {
     "name": "stdout",
     "output_type": "stream",
     "text": [
      "confusion matrix for gradient boosting: [[1164    1]\n",
      " [  84    1]]\n",
      "ROC AUC score for gradient boosting: 0.8366372128250441\n",
      "Accuracy for gradient boosting: 0.932\n"
     ]
    }
   ],
   "source": [
    "y_pred_grad = clf_grad.best_estimator_.predict(X_test)\n",
    "y_probs_grad = clf_grad.predict_proba(X_test)[:,1]\n",
    "\n",
    "print(\"confusion matrix for gradient boosting:\",confusion_matrix(y_test,y_pred_grad))\n",
    "print(\"ROC AUC score for gradient boosting:\", roc_auc_score(y_test,y_probs_grad))\n",
    "print(\"Accuracy for gradient boosting:\", accuracy_score(y_test,y_pred_grad))\n"
   ]
  },
  {
   "cell_type": "code",
   "execution_count": 2,
   "metadata": {
    "id": "gZZ8VZaD-zm7"
   },
   "outputs": [],
   "source": [
    "# Part f)"
   ]
  },
  {
   "cell_type": "markdown",
   "metadata": {
    "id": "TP9yD4ZEmNAu"
   },
   "source": [
    "## Question 3: XGBoost on Datasets with varying Class Imbalance [15 points]\n",
    "\n",
    "You are given three datasets (all extracted from the [GiveMeSomeCredit](https://www.kaggle.com/c/GiveMeSomeCredit) dataset which was used in the last question). They have varying levels of class imbalance (positive to negative class ratio):\n",
    "1. dataset_equally_biased_final has a class ratio of 1:1\n",
    "2. dataset_originally_biased_final has a class ratio of 1:15\n",
    "3. dataset_highly_biased_final has a class ratio of 1:39\n",
    "\n",
    "Use [XGBoost](https://xgboost.readthedocs.io/en/stable/python/python_api.html) on these three datasets and plot the [calibration curves](https://scikit-learn.org/stable/modules/generated/sklearn.calibration.calibration_curve.html#sklearn.calibration.calibration_curve) for your predictions. Examine both uniform and quantile binning strategies for your plots and observe how the plots look. For which of the datasets is you model calibrated the best? Which of the binning strategies provide more informative visualization for each of the datasets?"
   ]
  },
  {
   "cell_type": "code",
   "execution_count": 14,
   "metadata": {
    "colab": {
     "base_uri": "https://localhost:8080/"
    },
    "id": "VAqA-EyldUwi",
    "outputId": "f3ad6f2e-f8ad-49b2-e3ca-c18e6e0661d6"
   },
   "outputs": [
    {
     "name": "stdout",
     "output_type": "stream",
     "text": [
      "Balanced Dataset\n",
      "0    4000\n",
      "1    4000\n",
      "Name: SeriousDlqin2yrs, dtype: int64\n",
      "0    1000\n",
      "1    1000\n",
      "Name: SeriousDlqin2yrs, dtype: int64\n",
      "Originally Imbalanced Dataset\n",
      "0    7466\n",
      "1     534\n",
      "Name: SeriousDlqin2yrs, dtype: int64\n",
      "0    1866\n",
      "1     134\n",
      "Name: SeriousDlqin2yrs, dtype: int64\n",
      "Highly Imbalanced Dataset\n",
      "0    7800\n",
      "1     200\n",
      "Name: SeriousDlqin2yrs, dtype: int64\n",
      "0    1950\n",
      "1      50\n",
      "Name: SeriousDlqin2yrs, dtype: int64\n"
     ]
    }
   ],
   "source": [
    "from sklearn.model_selection import train_test_split\n",
    "import pandas as pd\n",
    "\n",
    "dataset = pd.read_csv(\"data_equally_biased_final.csv\")\n",
    "X = dataset.drop(['SeriousDlqin2yrs'], axis=1)\n",
    "y = dataset['SeriousDlqin2yrs']\n",
    "X_train1, X_test1, y_train1, y_test1 = train_test_split(X, y, test_size = 0.2, random_state = 15, stratify = y)\n",
    "print(\"Balanced Dataset\")\n",
    "# Number of classes in training Data\n",
    "print(y_train1.value_counts())\n",
    "# Number of classes in test Data\n",
    "print(y_test1.value_counts())\n",
    "\n",
    "dataset = pd.read_csv(\"data_originally_biased_final.csv\")\n",
    "X = dataset.drop(['SeriousDlqin2yrs'], axis=1)\n",
    "y = dataset['SeriousDlqin2yrs']\n",
    "X_train2, X_test2, y_train2, y_test2 = train_test_split(X, y, test_size = 0.2, random_state = 15, stratify = y)\n",
    "print(\"Originally Imbalanced Dataset\")\n",
    "# Number of classes in training Data\n",
    "print(y_train2.value_counts())\n",
    "# Number of classes in test Data\n",
    "print(y_test2.value_counts())\n",
    "\n",
    "dataset = pd.read_csv(\"data_highly_biased_final.csv\")\n",
    "X = dataset.drop(['SeriousDlqin2yrs'], axis=1)\n",
    "y = dataset['SeriousDlqin2yrs']\n",
    "X_train3, X_test3, y_train3, y_test3 = train_test_split(X, y, test_size = 0.2, random_state = 15, stratify = y)\n",
    "print(\"Highly Imbalanced Dataset\")\n",
    "# Number of classes in training Data\n",
    "print(y_train3.value_counts())\n",
    "# Number of classes in test Data\n",
    "print(y_test3.value_counts())"
   ]
  },
  {
   "cell_type": "code",
   "execution_count": 15,
   "metadata": {
    "id": "y4hIXJQUub6R"
   },
   "outputs": [],
   "source": [
    "import matplotlib.pyplot as plt\n",
    "from sklearn.model_selection import (train_test_split,GridSearchCV)\n",
    "from sklearn.metrics import (accuracy_score,roc_auc_score)\n",
    "from sklearn.ensemble import (RandomForestClassifier,GradientBoostingClassifier,AdaBoostClassifier)\n",
    "from sklearn.ensemble import RandomForestClassifier, BaggingClassifier\n",
    "from sklearn.metrics import confusion_matrix\n",
    "from sklearn.tree import DecisionTreeClassifier\n",
    "from time import time\n",
    "#import xgboost\n",
    "\n",
    "%matplotlib inline"
   ]
  },
  {
   "cell_type": "code",
   "execution_count": 16,
   "metadata": {},
   "outputs": [
    {
     "name": "stdout",
     "output_type": "stream",
     "text": [
      "Requirement already satisfied: xgboost in /Users/sreekarl/opt/anaconda3/lib/python3.9/site-packages (1.7.1)\n",
      "Requirement already satisfied: scipy in /Users/sreekarl/opt/anaconda3/lib/python3.9/site-packages (from xgboost) (1.7.3)\n",
      "Requirement already satisfied: numpy in /Users/sreekarl/opt/anaconda3/lib/python3.9/site-packages (from xgboost) (1.21.5)\n",
      "\n",
      "\u001b[1m[\u001b[0m\u001b[34;49mnotice\u001b[0m\u001b[1;39;49m]\u001b[0m\u001b[39;49m A new release of pip available: \u001b[0m\u001b[31;49m22.3\u001b[0m\u001b[39;49m -> \u001b[0m\u001b[32;49m22.3.1\u001b[0m\n",
      "\u001b[1m[\u001b[0m\u001b[34;49mnotice\u001b[0m\u001b[1;39;49m]\u001b[0m\u001b[39;49m To update, run: \u001b[0m\u001b[32;49mpip install --upgrade pip\u001b[0m\n",
      "Note: you may need to restart the kernel to use updated packages.\n"
     ]
    }
   ],
   "source": [
    "%pip install xgboost\n",
    "import xgboost"
   ]
  },
  {
   "cell_type": "code",
   "execution_count": 17,
   "metadata": {
    "colab": {
     "base_uri": "https://localhost:8080/"
    },
    "id": "ylGDD7IjjVp-",
    "outputId": "c76b997a-51be-4ef0-fb18-d7370863ed34"
   },
   "outputs": [
    {
     "name": "stdout",
     "output_type": "stream",
     "text": [
      "Balanced Dataset\n",
      "{'learning_rate': 0.1, 'n_estimators': 100, 'random_state': 17}\n",
      "training time 0.802 s\n",
      "predict time 0.004 s\n",
      "XGBoost conf matrix: \n",
      "[[794 206]\n",
      " [228 772]]\n",
      "Accuracy: 0.783\n",
      " AUC_ROC: 0.856863\n",
      "\n",
      "Originally Imbalanced Dataset\n",
      "{'learning_rate': 0.1, 'n_estimators': 100, 'random_state': 17}\n",
      "training time 0.78 s\n",
      "predict time 0.004 s\n",
      "XGBoost conf matrix: \n",
      "[[1843   23]\n",
      " [ 114   20]]\n",
      "Accuracy: 0.9315\n",
      " AUC_ROC: 0.8342691686263217\n",
      "\n",
      "Highly Imbalanced Dataset\n",
      "{'learning_rate': 0.01, 'n_estimators': 100, 'random_state': 17}\n",
      "training time 0.742 s\n",
      "predict time 0.004 s\n",
      "XGBoost conf matrix: \n",
      "[[1945    5]\n",
      " [  50    0]]\n",
      "Accuracy: 0.9725\n",
      " AUC_ROC: 0.8398564102564102\n",
      "\n"
     ]
    }
   ],
   "source": [
    "# Using the earlier dataset and applying XGBoost on it\n",
    "\n",
    "clf = xgboost.XGBClassifier()\n",
    "\n",
    "param_grid = {\"n_estimators\": [10, 100],\n",
    "          \"learning_rate\": [0.01, 0.1, 0.5],\n",
    "          \"random_state\": [17]\n",
    "          }\n",
    "\n",
    "# Grid search\n",
    "grid_search = GridSearchCV(clf, param_grid=param_grid)\n",
    "\n",
    "# Balanced Dataset\n",
    "print(\"Balanced Dataset\")\n",
    "grid_search.fit(X_train1, y_train1)\n",
    "print(grid_search.best_params_)\n",
    "clf.set_params(**grid_search.best_params_)\n",
    "\n",
    "t0 = time()\n",
    "clf.fit(X_train1, y_train1)\n",
    "print(\"training time\", round(time()-t0, 3), \"s\")\n",
    "\n",
    "t0 = time()\n",
    "y_pred_gbt1 = clf.predict(X_test1)\n",
    "print(\"predict time\", round(time()-t0, 3), \"s\")\n",
    "\n",
    "print(\"XGBoost conf matrix: \")\n",
    "print(confusion_matrix(y_test1, y_pred_gbt1))\n",
    "\n",
    "y_pred_proba1 = clf.predict_proba(X_test1)[:,1]\n",
    "\n",
    "acc_score = accuracy_score(y_test1,y_pred_gbt1)\n",
    "auc_score = roc_auc_score(y_test1,y_pred_proba1)\n",
    "print(\"Accuracy: {}\\n AUC_ROC: {}\\n\".format(acc_score,auc_score))\n",
    "\n",
    "\n",
    "# Originally Imbalanced Dataset\n",
    "\n",
    "print(\"Originally Imbalanced Dataset\")\n",
    "grid_search.fit(X_train2, y_train2)\n",
    "print(grid_search.best_params_)\n",
    "clf.set_params(**grid_search.best_params_)\n",
    "\n",
    "t0 = time()\n",
    "clf.fit(X_train2, y_train2)\n",
    "print(\"training time\", round(time()-t0, 3), \"s\")\n",
    "\n",
    "t0 = time()\n",
    "y_pred_gbt2 = clf.predict(X_test2)\n",
    "print(\"predict time\", round(time()-t0, 3), \"s\")\n",
    "\n",
    "print(\"XGBoost conf matrix: \")\n",
    "print(confusion_matrix(y_test2, y_pred_gbt2))\n",
    "\n",
    "y_pred_proba2 = clf.predict_proba(X_test2)[:,1]\n",
    "\n",
    "acc_score = accuracy_score(y_test2,y_pred_gbt2)\n",
    "auc_score = roc_auc_score(y_test2,y_pred_proba2)\n",
    "print(\"Accuracy: {}\\n AUC_ROC: {}\\n\".format(acc_score,auc_score))\n",
    "\n",
    "# Highly Imalanced Dataset\n",
    "\n",
    "print(\"Highly Imbalanced Dataset\")\n",
    "grid_search.fit(X_train3, y_train3)\n",
    "print(grid_search.best_params_)\n",
    "clf.set_params(**grid_search.best_params_)\n",
    "\n",
    "t0 = time()\n",
    "clf.fit(X_train3, y_train3)\n",
    "print(\"training time\", round(time()-t0, 3), \"s\")\n",
    "\n",
    "t0 = time()\n",
    "y_pred_gbt3 = clf.predict(X_test3)\n",
    "print(\"predict time\", round(time()-t0, 3), \"s\")\n",
    "\n",
    "print(\"XGBoost conf matrix: \")\n",
    "print(confusion_matrix(y_test3, y_pred_gbt3))\n",
    "\n",
    "y_pred_proba3 = clf.predict_proba(X_test3)[:,1]\n",
    "\n",
    "acc_score = accuracy_score(y_test3,y_pred_gbt3)\n",
    "auc_score = roc_auc_score(y_test3,y_pred_proba3)\n",
    "print(\"Accuracy: {}\\n AUC_ROC: {}\\n\".format(acc_score,auc_score))"
   ]
  },
  {
   "cell_type": "code",
   "execution_count": 18,
   "metadata": {
    "id": "KHmxgNDIk3xs"
   },
   "outputs": [
    {
     "data": {
      "image/png": "[encoded data removed]",
      "text/plain": [
       "<Figure size 432x288 with 1 Axes>"
      ]
     },
     "metadata": {
      "needs_background": "light"
     },
     "output_type": "display_data"
    }
   ],
   "source": [
    "from sklearn.calibration import calibration_curve\n",
    "import matplotlib.pyplot as plt\n",
    "\n",
    "#Plot all calibration curves for strategy = 'uniform' (It is uniform by default)\n",
    "\n",
    "prob_true, prob_pred = calibration_curve(y_test1, y_pred_proba1)\n",
    "plt.plot(prob_pred,prob_true)\n",
    "plt.title('Calibration for Balanced Data')\n",
    "plt.xlabel('Predicted Probability')\n",
    "plt.ylabel('True Probability')\n",
    "plt.show()"
   ]
  },
  {
   "cell_type": "code",
   "execution_count": 20,
   "metadata": {},
   "outputs": [
    {
     "data": {
      "image/png": "[encoded data removed]",
      "text/plain": [
       "<Figure size 432x288 with 1 Axes>"
      ]
     },
     "metadata": {
      "needs_background": "light"
     },
     "output_type": "display_data"
    }
   ],
   "source": [
    "# Mild Imbalanced Dataset\n",
    "prob_true, prob_pred = calibration_curve(y_test2,y_pred_proba2)\n",
    "\n",
    "plt.plot(prob_pred,prob_true)\n",
    "plt.title('Calibration for Mild Imbalanced Data (Uniform Strategy)')\n",
    "plt.xlabel('Predicted Probability')\n",
    "plt.ylabel('True Probability')\n",
    "plt.show()"
   ]
  },
  {
   "cell_type": "code",
   "execution_count": 21,
   "metadata": {},
   "outputs": [
    {
     "data": {
      "image/png": "[encoded data removed]",
      "text/plain": [
       "<Figure size 432x288 with 1 Axes>"
      ]
     },
     "metadata": {
      "needs_background": "light"
     },
     "output_type": "display_data"
    }
   ],
   "source": [
    "# Heavily Imbalanced Dataset\n",
    "prob_true, prob_pred = calibration_curve(y_test3,y_pred_proba3)\n",
    "\n",
    "plt.plot(prob_pred,prob_true)\n",
    "plt.title('Calibration for Heavily Imbalanced Data (Uniform Strategy)')\n",
    "plt.xlabel('Predicted Probability')\n",
    "plt.ylabel('True Probability')\n",
    "plt.show()"
   ]
  },
  {
   "cell_type": "code",
   "execution_count": 22,
   "metadata": {
    "id": "03dktaNFxCFP"
   },
   "outputs": [
    {
     "data": {
      "image/png": "[encoded data removed]",
      "text/plain": [
       "<Figure size 432x288 with 1 Axes>"
      ]
     },
     "metadata": {
      "needs_background": "light"
     },
     "output_type": "display_data"
    }
   ],
   "source": [
    "#Plot all calibration curves for strategy = 'quantile'\n",
    "# Balanced Dataset\n",
    "prob_true, prob_pred = calibration_curve(y_test1,y_pred_proba1,strategy='quantile')\n",
    "\n",
    "plt.plot(prob_pred,prob_true)\n",
    "plt.title('Calibration for Balanced Data (Quantile Strategy)')\n",
    "plt.xlabel('Predicted Probability')\n",
    "plt.ylabel('True Probability')\n",
    "plt.show()"
   ]
  },
  {
   "cell_type": "code",
   "execution_count": 24,
   "metadata": {},
   "outputs": [
    {
     "data": {
      "image/png": "[encoded data removed]",
      "text/plain": [
       "<Figure size 432x288 with 1 Axes>"
      ]
     },
     "metadata": {
      "needs_background": "light"
     },
     "output_type": "display_data"
    }
   ],
   "source": [
    "# Mild Imbalanced Dataset\n",
    "prob_true, prob_pred = calibration_curve(y_test2,y_pred_proba2,strategy='quantile')\n",
    "\n",
    "plt.plot(prob_pred,prob_true)\n",
    "plt.title('Calibration for Mild Imbalanced Data (Quantile Strategy)')\n",
    "plt.xlabel('Predicted Probability')\n",
    "plt.ylabel('True Probability')\n",
    "plt.show()"
   ]
  },
  {
   "cell_type": "code",
   "execution_count": 25,
   "metadata": {},
   "outputs": [
    {
     "data": {
      "image/png": "[encoded data removed]",
      "text/plain": [
       "<Figure size 432x288 with 1 Axes>"
      ]
     },
     "metadata": {
      "needs_background": "light"
     },
     "output_type": "display_data"
    }
   ],
   "source": [
    "# Heavily Imbalanced Dataset\n",
    "prob_true, prob_pred = calibration_curve(y_test3,y_pred_proba3,strategy='quantile')\n",
    "\n",
    "plt.plot(prob_pred,prob_true)\n",
    "plt.title('Calibration for Heavily Imbalanced Data (Quantile Strategy)')\n",
    "plt.xlabel('Predicted Probability')\n",
    "plt.ylabel('True Probability')\n",
    "plt.show()"
   ]
  },
  {
   "cell_type": "markdown",
   "metadata": {
    "id": "ss00Jw5KkJdR"
   },
   "source": [
    "#Question 4: Deep Learning Mechanisms [5 points]\n",
    "\n",
    "Briefly explain the motivation behind the following mechanisms commonly used in deep learning: <br>\n",
    "a) **[2.5 pts]** Skip connections <br>\n",
    "b) **[2.5 pts]** Batch normalization"
   ]
  },
  {
   "cell_type": "markdown",
   "metadata": {
    "id": "BM-3J85Ew9oA"
   },
   "source": [
    "#Answer:"
   ]
  },
  {
   "cell_type": "markdown",
   "metadata": {
    "id": "lzw5bMvVw_Sa"
   },
   "source": [
    "# a. Skip connections "
   ]
  },
  {
   "cell_type": "markdown",
   "metadata": {},
   "source": [
    "In Neural Nets, the output from one layer usually feeds input of the next layer and so on. We need to understand that during backpropgation the gradient of the weights at a certain layer might get close to zero and the subsequent weights are dependent on it, the overall learning of the model will be effected if any of the weights approach towards zero. This problem can be solved using the skip connections where the skip connections in deep architecture bypass some of the neural network layers and feed the output of one layer as the input to the following layers. It is a standard module and provides an alternative path for the gradient with backpropagation"
   ]
  },
  {
   "cell_type": "markdown",
   "metadata": {},
   "source": [
    "# b. Batch normalization\n"
   ]
  },
  {
   "cell_type": "markdown",
   "metadata": {},
   "source": [
    "Training deep neural networks with multiple layers is challenging as they are sensitive to the initial random weights and its configuration. One possible reason for this difficulty is the distribution of the inputs to layers deep in the network may change after each mini-batch when the weights are updated. This can cause the learning algorithm to forever chase a moving target. This change in the distribution of inputs to layers in the network is referred to the technical name internal covariate shift.\n",
    "Batch normalization is a technique for training very deep neural networks that standardizes the inputs to a layer for each mini-batch. This has the effect of stabilizing the learning process and dramatically reducing the number of training epochs required to train deep networks."
   ]
  }
 ],
 "metadata": {
  "colab": {
   "collapsed_sections": [],
   "provenance": []
  },
  "kernelspec": {
   "display_name": "Python 3 (ipykernel)",
   "language": "python",
   "name": "python3"
  },
  "language_info": {
   "codemirror_mode": {
    "name": "ipython",
    "version": 3
   },
   "file_extension": ".py",
   "mimetype": "text/x-python",
   "name": "python",
   "nbconvert_exporter": "python",
   "pygments_lexer": "ipython3",
   "version": "3.9.12"
  }
 },
 "nbformat": 4,
 "nbformat_minor": 1
}
